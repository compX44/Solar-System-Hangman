{
 "cells": [
  {
   "cell_type": "code",
   "execution_count": 1,
   "id": "5181aed8",
   "metadata": {
    "scrolled": true
   },
   "outputs": [
    {
     "name": "stdout",
     "output_type": "stream",
     "text": [
      "Okay. Maybe next time then.\n"
     ]
    }
   ],
   "source": [
    "# Import additional functions\n",
    "from random import choice\n",
    "from IPython.display import clear_output\n",
    "\n",
    "# Game variables\n",
    "words = [\"mercury\", \"venus\", \"earth\", \"mars\", \"jupiter\", \"saturn\", \"uranus\", \"neptune\", \n",
    "         \"sun\", \"moon\", \"stars\", \"asteroid\", \"constellation\", \"celestial\"]\n",
    "word = choice(words) # randomly chooses a word from words list\n",
    "guessed = []\n",
    "lives = 7\n",
    "game_over = False\n",
    "\n",
    "# Create a list of underscores to the length of the word\n",
    "guesses = [\"_\"] * len(word)\n",
    "\n",
    "# Greeting and Rules\n",
    "name = input(\"Please enter your name: \")\n",
    "\n",
    "print(\"Welcome to Solar System Hangman {}!\".format(name))\n",
    "print(\"The rules are simple. Guess the correct letters to uncover the mysteryword before losing all of your lives, and you win.\")\n",
    "print(\"However, guess incorrectly, and you will lose a life. Loose all your lives, you loose the game.\")\n",
    "print(\"Now then, let's be like a rocketship and 3...2...1... blast off!\")\n",
    "\n",
    "\n",
    "# Create main game loop\n",
    "while not game_over:\n",
    "    # Output game information\n",
    "    hidden_word = \" \".join(guesses)\n",
    "    print(\"Your guessed letters: {}\".format(guessed))\n",
    "    print(\"Word to guess: {}\".format(hidden_word))\n",
    "    print(\"Lives: {}\".format(lives))\n",
    "    \n",
    "    answer = input(\"Type quit or guess a letter: \").lower()\n",
    "    \n",
    "    clear_output() # Clear all previous output\n",
    "    \n",
    "    if answer == \"quit\":\n",
    "        print(\"Okay. Maybe next time then.\")\n",
    "        game_over = True\n",
    "        \n",
    "    elif answer in word and answer not in guessed:\n",
    "        print(\"You've guessed correctly!\")\n",
    "        \n",
    "        # Loop to change underscore to correct letter\n",
    "        for i in range(len(word)):\n",
    "            if word[i] == answer: # Compares vakues at the indexes\n",
    "                guesses[i] = answer\n",
    "            \n",
    "    elif answer in guessed:\n",
    "        print(\"You've already guessed that. Please try again.\")\n",
    "    \n",
    "    else:\n",
    "        # Loose a life \n",
    "        lives-=1\n",
    "        print(\"You've guessed incorrectly. You lost a life.\")\n",
    "    \n",
    "    # Adds the guess to the guessed list\n",
    "    if answer not in guessed:\n",
    "        guessed.append(answer)\n",
    "    \n",
    "    if lives <= 0:\n",
    "        print(\"Sorry, you've lost all your lives. You've lost\")\n",
    "        print(\"The word was: {}\".format(word))\n",
    "        print(\"Better luck next time.\")\n",
    "        game_over = True\n",
    "        \n",
    "    elif word == \"\".join(guesses):\n",
    "        print(\"Congratulations, you've guessed the word!\")\n",
    "        game_over = True\n",
    "\n"
   ]
  }
 ],
 "metadata": {
  "kernelspec": {
   "display_name": "Python 3 (ipykernel)",
   "language": "python",
   "name": "python3"
  },
  "language_info": {
   "codemirror_mode": {
    "name": "ipython",
    "version": 3
   },
   "file_extension": ".py",
   "mimetype": "text/x-python",
   "name": "python",
   "nbconvert_exporter": "python",
   "pygments_lexer": "ipython3",
   "version": "3.10.9"
  }
 },
 "nbformat": 4,
 "nbformat_minor": 5
}
